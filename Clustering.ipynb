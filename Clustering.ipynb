{
 "cells": [
  {
   "cell_type": "code",
   "execution_count": 19,
   "metadata": {
    "collapsed": false
   },
   "outputs": [],
   "source": [
    "import pandas as pd, numpy as np, matplotlib.pyplot as plt\n",
    "from sklearn.cluster import DBSCAN\n",
    "from geopy.distance import great_circle\n",
    "from shapely.geometry import MultiPoint\n",
    "from geopy.point import Point\n",
    "from geopy.geocoders import *\n",
    "from geopy.distance import *\n",
    "\n",
    "detroit_demolition_permits = pd.read_json('detroit_demolition_permits_with_lat_lon.json')\n",
    "detroit_blight_violations = pd.read_json('detroit_blight_violations_with_lat_lon.json')\n",
    "detroit_311 = pd.read_json('detroit_311_with_lat_lon.json')\n",
    "detroit_crime= pd.read_json('detroit_crime_with_lat_lon.json')"
   ]
  },
  {
   "cell_type": "code",
   "execution_count": 3,
   "metadata": {
    "collapsed": false
   },
   "outputs": [],
   "source": [
    "def get_lat_lon(data):\n",
    "    return data[['LAT','LON']].as_matrix()"
   ]
  },
  {
   "cell_type": "code",
   "execution_count": 4,
   "metadata": {
    "collapsed": false
   },
   "outputs": [],
   "source": [
    "points_demolition = get_lat_lon(detroit_demolition_permits)\n",
    "points_blight = get_lat_lon(detroit_blight_violations)\n",
    "points_crime = get_lat_lon(detroit_crime)\n",
    "points_311 = get_lat_lon(detroit_311)"
   ]
  },
  {
   "cell_type": "code",
   "execution_count": 5,
   "metadata": {
    "collapsed": false
   },
   "outputs": [
    {
     "data": {
      "text/plain": [
       "(7133L, 2L)"
      ]
     },
     "execution_count": 5,
     "metadata": {},
     "output_type": "execute_result"
    }
   ],
   "source": [
    "points_demolition.shape"
   ]
  },
  {
   "cell_type": "code",
   "execution_count": 6,
   "metadata": {
    "collapsed": false
   },
   "outputs": [
    {
     "data": {
      "text/plain": [
       "(307804L, 2L)"
      ]
     },
     "execution_count": 6,
     "metadata": {},
     "output_type": "execute_result"
    }
   ],
   "source": [
    "points_blight.shape"
   ]
  },
  {
   "cell_type": "code",
   "execution_count": 7,
   "metadata": {
    "collapsed": false
   },
   "outputs": [
    {
     "data": {
      "text/plain": [
       "(119901L, 2L)"
      ]
     },
     "execution_count": 7,
     "metadata": {},
     "output_type": "execute_result"
    }
   ],
   "source": [
    "points_crime.shape"
   ]
  },
  {
   "cell_type": "code",
   "execution_count": 8,
   "metadata": {
    "collapsed": false
   },
   "outputs": [
    {
     "data": {
      "text/plain": [
       "(19680L, 2L)"
      ]
     },
     "execution_count": 8,
     "metadata": {},
     "output_type": "execute_result"
    }
   ],
   "source": [
    "points_311.shape"
   ]
  },
  {
   "cell_type": "code",
   "execution_count": 9,
   "metadata": {
    "collapsed": false
   },
   "outputs": [],
   "source": [
    "coords = np.concatenate((points_demolition ,points_blight,points_crime,points_311))"
   ]
  },
  {
   "cell_type": "code",
   "execution_count": 10,
   "metadata": {
    "collapsed": false
   },
   "outputs": [],
   "source": [
    "kms_per_radian = 6371.0088\n",
    "epsilon = 0.03 / kms_per_radian\n",
    "db = DBSCAN(eps=epsilon, min_samples=1, algorithm='ball_tree', metric='haversine',n_jobs=-1).fit(np.radians(coords))"
   ]
  },
  {
   "cell_type": "code",
   "execution_count": 20,
   "metadata": {
    "collapsed": false
   },
   "outputs": [
    {
     "name": "stdout",
     "output_type": "stream",
     "text": [
      "Number of clusters: 40821\n",
      "Number of blighted: 3739\n"
     ]
    }
   ],
   "source": [
    "cluster_labels = db.labels_\n",
    "num_clusters = len(set(cluster_labels))\n",
    "num_blighted = len(set(cluster_labels[:7133]))\n",
    "print('Number of clusters: {}'.format(num_clusters))\n",
    "print('Number of blighted: {}'.format(num_blighted))"
   ]
  },
  {
   "cell_type": "code",
   "execution_count": 21,
   "metadata": {
    "collapsed": false
   },
   "outputs": [],
   "source": [
    "detroit_demolition_permits['label'] = pd.Series(cluster_labels[:7133],dtype='int64')\n",
    "cluster_labels = cluster_labels[7133:]\n",
    "detroit_demolition_permits = detroit_demolition_permits.drop(['LAT','LON'],1)\n",
    "detroit_demolition_permits.to_json('detroit_demolition_permits.json')"
   ]
  },
  {
   "cell_type": "code",
   "execution_count": 22,
   "metadata": {
    "collapsed": false
   },
   "outputs": [],
   "source": [
    "detroit_blight_violations['label'] = pd.Series(cluster_labels[:307804],dtype='int64')\n",
    "cluster_labels = cluster_labels[307804:]\n",
    "detroit_blight_violations = detroit_blight_violations.drop(['LAT','LON'],1)\n",
    "detroit_blight_violations.to_json('detroit_blight_violations.json')"
   ]
  },
  {
   "cell_type": "code",
   "execution_count": 23,
   "metadata": {
    "collapsed": false
   },
   "outputs": [],
   "source": [
    "detroit_crime['label'] = pd.Series(cluster_labels[:119901],dtype='int64')\n",
    "cluster_labels = cluster_labels[119901:]\n",
    "detroit_crime = detroit_crime.drop(['LAT','LON'],1)\n",
    "detroit_crime.to_json('detroit_crime.json')"
   ]
  },
  {
   "cell_type": "code",
   "execution_count": 24,
   "metadata": {
    "collapsed": false
   },
   "outputs": [],
   "source": [
    "detroit_311['label'] = pd.Series(cluster_labels[:19680],dtype='int64')\n",
    "cluster_labels = cluster_labels[19680:]\n",
    "detroit_311 = detroit_311.drop(['LAT','LON'],1)\n",
    "detroit_311.to_json('detroit_311.json')"
   ]
  },
  {
   "cell_type": "code",
   "execution_count": 25,
   "metadata": {
    "collapsed": false
   },
   "outputs": [
    {
     "data": {
      "text/plain": [
       "(0L,)"
      ]
     },
     "execution_count": 25,
     "metadata": {},
     "output_type": "execute_result"
    }
   ],
   "source": [
    "cluster_labels.shape"
   ]
  },
  {
   "cell_type": "code",
   "execution_count": null,
   "metadata": {
    "collapsed": true
   },
   "outputs": [],
   "source": []
  }
 ],
 "metadata": {
  "anaconda-cloud": {},
  "kernelspec": {
   "display_name": "Python [conda env:gl-env]",
   "language": "python",
   "name": "conda-env-gl-env-py"
  },
  "language_info": {
   "codemirror_mode": {
    "name": "ipython",
    "version": 2
   },
   "file_extension": ".py",
   "mimetype": "text/x-python",
   "name": "python",
   "nbconvert_exporter": "python",
   "pygments_lexer": "ipython2",
   "version": "2.7.12"
  }
 },
 "nbformat": 4,
 "nbformat_minor": 1
}
